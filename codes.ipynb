{
  "nbformat": 4,
  "nbformat_minor": 0,
  "metadata": {
    "colab": {
      "provenance": []
    },
    "kernelspec": {
      "name": "python3",
      "display_name": "Python 3"
    },
    "language_info": {
      "name": "python"
    }
  },
  "cells": [
    {
      "cell_type": "code",
      "execution_count": 1,
      "metadata": {
        "colab": {
          "base_uri": "https://localhost:8080/"
        },
        "id": "mYSJdAtDX7kQ",
        "outputId": "b21b27e9-3af3-4a44-bc10-574e5aa6fec0"
      },
      "outputs": [
        {
          "output_type": "stream",
          "name": "stdout",
          "text": [
            "Mounted at /content/drive\n"
          ]
        }
      ],
      "source": [
        "from google.colab import drive\n",
        "drive.mount('/content/drive')"
      ]
    },
    {
      "cell_type": "code",
      "source": [
        "import os\n",
        "import numpy as np\n",
        "from PIL import Image\n",
        "from sklearn.model_selection import train_test_split\n",
        "from sklearn.preprocessing import StandardScaler\n",
        "from sklearn.metrics import accuracy_score, precision_score, recall_score, f1_score\n",
        "from sklearn.model_selection import train_test_split\n",
        "from sklearn.neighbors import KNeighborsClassifier\n",
        "from sklearn.tree import DecisionTreeClassifier\n",
        "from sklearn.linear_model import LogisticRegression\n",
        "from sklearn.svm import SVC\n",
        "from sklearn.neural_network import MLPClassifier\n",
        "from tensorflow.keras.models import Sequential\n",
        "from tensorflow.keras.layers import Dense\n",
        "import matplotlib.pyplot as plt\n",
        "import pandas as pd"
      ],
      "metadata": {
        "id": "n3aKa5PIYYFv"
      },
      "execution_count": 2,
      "outputs": []
    },
    {
      "cell_type": "code",
      "source": [
        "def load_images_from_folder(folder, image_size=(128, 128)):\n",
        "    images = []\n",
        "    labels = []\n",
        "    for label in os.listdir(folder):\n",
        "        label_folder = os.path.join(folder, label)\n",
        "        if os.path.isdir(label_folder):\n",
        "            for filename in os.listdir(label_folder):\n",
        "                img_path = os.path.join(label_folder, filename)\n",
        "                try:\n",
        "                    img = Image.open(img_path).convert('RGB')\n",
        "                    img = img.resize(image_size)\n",
        "                    img_array = np.array(img).flatten()  # Flatten the image\n",
        "                    images.append(img_array)\n",
        "                    labels.append(label)\n",
        "                except Exception as e:\n",
        "                    print(f\"Error loading image {img_path}: {e}\")\n",
        "    return np.array(images), np.array(labels)"
      ],
      "metadata": {
        "id": "BEbcbp_AYuWq"
      },
      "execution_count": 3,
      "outputs": []
    },
    {
      "cell_type": "code",
      "source": [
        "def count_classes(folder_path):\n",
        "    return len([name for name in os.listdir(folder_path) if os.path.isdir(os.path.join(folder_path, name))])"
      ],
      "metadata": {
        "id": "loHjC-EYY40F"
      },
      "execution_count": 4,
      "outputs": []
    },
    {
      "cell_type": "code",
      "source": [
        "def evaluate_model(model, X_train, X_test, y_train, y_test):\n",
        "    model.fit(X_train, y_train)\n",
        "    y_pred = model.predict(X_test)\n",
        "    accuracy = accuracy_score(y_test, y_pred)\n",
        "    precision = precision_score(y_test, y_pred, average='weighted')\n",
        "    recall = recall_score(y_test, y_pred, average='weighted')\n",
        "    f1 = f1_score(y_test, y_pred, average='weighted')\n",
        "\n",
        "    return accuracy, precision, recall, f1"
      ],
      "metadata": {
        "id": "687l7k51Y-jp"
      },
      "execution_count": 6,
      "outputs": []
    },
    {
      "cell_type": "code",
      "source": [
        "train_folder_path = '/content/drive/MyDrive/Dataset/Train'\n",
        "test_folder_path = '/content/drive/MyDrive/Dataset/Test'\n",
        "X_train, y_train = load_images_from_folder(train_folder_path, image_size=(128, 128))\n",
        "X_test, y_test = load_images_from_folder(test_folder_path, image_size=(128, 128))"
      ],
      "metadata": {
        "id": "1X-M5FUmZBHv"
      },
      "execution_count": 7,
      "outputs": []
    },
    {
      "cell_type": "code",
      "source": [
        "from sklearn.preprocessing import LabelEncoder\n",
        "label_encoder = LabelEncoder()\n",
        "y_train_encoded = label_encoder.fit_transform(y_train)\n",
        "y_test_encoded = label_encoder.transform(y_test)\n",
        "\n",
        "\n",
        "\n",
        "# Standardize the data (recommended for certain algorithms)\n",
        "scaler = StandardScaler()\n",
        "X_train_scaled = scaler.fit_transform(X_train)\n",
        "X_test_scaled = scaler.transform(X_test)"
      ],
      "metadata": {
        "id": "br2DqsNUZ8Vl"
      },
      "execution_count": 11,
      "outputs": []
    },
    {
      "cell_type": "code",
      "source": [
        "# Define models\n",
        "models = {\n",
        "    \"Decision Tree\": DecisionTreeClassifier(),\n",
        "    \"KNN\": KNeighborsClassifier(n_neighbors=1),\n",
        "    \"Logistic Regression\": LogisticRegression(max_iter=500),  # Increased max_iter\n",
        "    \"SVM\": SVC(),\n",
        "    \"ANN\": MLPClassifier(hidden_layer_sizes=(64, 32), max_iter=100)  # Adjust ANN parameters\n",
        "}\n",
        "\n",
        "# Evaluate each model\n",
        "results = []\n",
        "\n",
        "for model_name, model in models.items():\n",
        "    model.fit(X_train_scaled, y_train_encoded)  # Use scaled data\n",
        "    y_pred = model.predict(X_test_scaled)  # Ensure predictions are class labels\n",
        "    accuracy = accuracy_score(y_test_encoded, y_pred)\n",
        "    precision = precision_score(y_test_encoded, y_pred, average='weighted')\n",
        "    recall = recall_score(y_test_encoded, y_pred, average='weighted')\n",
        "    f1 = f1_score(y_test_encoded, y_pred, average='weighted')\n",
        "    results.append([model_name, accuracy, precision, recall, f1])\n",
        "\n"
      ],
      "metadata": {
        "colab": {
          "base_uri": "https://localhost:8080/"
        },
        "id": "OBqW51jbbANO",
        "outputId": "6b1aa5fb-6940-4e91-9dbf-c5854efb74b3"
      },
      "execution_count": 12,
      "outputs": [
        {
          "output_type": "stream",
          "name": "stderr",
          "text": [
            "/usr/local/lib/python3.10/dist-packages/sklearn/linear_model/_logistic.py:460: ConvergenceWarning: lbfgs failed to converge (status=1):\n",
            "STOP: TOTAL NO. of ITERATIONS REACHED LIMIT.\n",
            "\n",
            "Increase the number of iterations (max_iter) or scale the data as shown in:\n",
            "    https://scikit-learn.org/stable/modules/preprocessing.html\n",
            "Please also refer to the documentation for alternative solver options:\n",
            "    https://scikit-learn.org/stable/modules/linear_model.html#logistic-regression\n",
            "  n_iter_i = _check_optimize_result(\n"
          ]
        }
      ]
    },
    {
      "cell_type": "code",
      "source": [
        " # Convert the metrics to percentages\n",
        "results_percentage = []\n",
        "for result in results:\n",
        "    algorithm = result[0]\n",
        "    accuracy = result[1] * 100\n",
        "    precision = result[2] * 100\n",
        "    recall = result[3] * 100\n",
        "    f1_score = result[4] * 100\n",
        "    results_percentage.append([algorithm, accuracy, precision, recall, f1_score])\n",
        "\n",
        "# Display results in a table format\n",
        "import pandas as pd\n",
        "results_df = pd.DataFrame(results_percentage, columns=[\"Algorithm\", \"Accuracy (%)\", \"Precision (%)\", \"Recall (%)\", \"F1 Score (%)\"])\n",
        "print(results_df)"
      ],
      "metadata": {
        "colab": {
          "base_uri": "https://localhost:8080/"
        },
        "id": "yyGPJnhUbbyT",
        "outputId": "41af3119-9fbd-48d8-92c9-5feccd20b796"
      },
      "execution_count": 13,
      "outputs": [
        {
          "output_type": "stream",
          "name": "stdout",
          "text": [
            "             Algorithm  Accuracy (%)  Precision (%)  Recall (%)  F1 Score (%)\n",
            "0        Decision Tree        55.000      54.456657      55.000     54.086533\n",
            "1                  KNN        58.125      57.792534      58.125     56.428478\n",
            "2  Logistic Regression        66.250      66.200660      66.250     65.782412\n",
            "3                  SVM        72.500      74.068182      72.500     71.469346\n",
            "4                  ANN        61.875      62.325911      61.875     61.223795\n"
          ]
        }
      ]
    },
    {
      "cell_type": "code",
      "source": [],
      "metadata": {
        "id": "P50V0Ihrc10J"
      },
      "execution_count": null,
      "outputs": []
    }
  ]
}